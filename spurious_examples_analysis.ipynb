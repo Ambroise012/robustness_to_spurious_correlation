# load data from pkl file 

# print the number of "spurious examples" extracted

# print the sentence associated

# load the id of extracted examples and show if they are in an other pkl file

