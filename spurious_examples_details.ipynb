{
 "cells": [
  {
   "cell_type": "markdown",
   "metadata": {},
   "source": [
    "# load data from pkl file \n",
    "\n",
    "# print the number of \"spurious examples\" extracted\n",
    "\n",
    "# print the sentence associated\n",
    "\n",
    "# load the id of extracted examples and show if they are in an other pkl file"
   ]
  },
  {
   "cell_type": "code",
   "execution_count": 11,
   "metadata": {},
   "outputs": [
    {
     "name": "stdout",
     "output_type": "stream",
     "text": [
      "Collecting pandas\n",
      "  Using cached pandas-2.2.3-cp311-cp311-win_amd64.whl.metadata (19 kB)\n",
      "Requirement already satisfied: numpy>=1.23.2 in \\\\wsl.localhost\\ubuntu\\home\\ambroise012\\projet_3a\\robustness_to_spurious_correlation\\.venv\\lib\\site-packages (from pandas) (2.2.2)\n",
      "Requirement already satisfied: python-dateutil>=2.8.2 in \\\\wsl.localhost\\ubuntu\\home\\ambroise012\\projet_3a\\robustness_to_spurious_correlation\\.venv\\lib\\site-packages (from pandas) (2.9.0.post0)\n",
      "Collecting pytz>=2020.1 (from pandas)\n",
      "  Using cached pytz-2025.1-py2.py3-none-any.whl.metadata (22 kB)\n",
      "Collecting tzdata>=2022.7 (from pandas)\n",
      "  Using cached tzdata-2025.1-py2.py3-none-any.whl.metadata (1.4 kB)\n",
      "Requirement already satisfied: six>=1.5 in \\\\wsl.localhost\\ubuntu\\home\\ambroise012\\projet_3a\\robustness_to_spurious_correlation\\.venv\\lib\\site-packages (from python-dateutil>=2.8.2->pandas) (1.17.0)\n",
      "Using cached pandas-2.2.3-cp311-cp311-win_amd64.whl (11.6 MB)\n",
      "Using cached pytz-2025.1-py2.py3-none-any.whl (507 kB)\n",
      "Using cached tzdata-2025.1-py2.py3-none-any.whl (346 kB)\n",
      "Installing collected packages: pytz, tzdata, pandas\n",
      "Successfully installed pandas-2.2.3 pytz-2025.1 tzdata-2025.1\n"
     ]
    }
   ],
   "source": [
    "!pip install pandas"
   ]
  },
  {
   "cell_type": "code",
   "execution_count": 12,
   "metadata": {},
   "outputs": [
    {
     "name": "stdout",
     "output_type": "stream",
     "text": [
      "Type de la structure chargée : <class 'dict'>\n",
      "\n",
      "Clé : selected_examples\n",
      "Valeur : [     3      4     61 ... 392663 392664 392665]\n",
      "\n",
      "26364\n"
     ]
    }
   ],
   "source": [
    "import pickle\n",
    "\n",
    "# Charger les exemples extraits\n",
    "with open('mnli_bert_base/important_examples.pkl', 'rb') as file:\n",
    "    extracted_examples = pickle.load(file)\n",
    "\n",
    "# Vérifier le type de la structure de données\n",
    "print(f\"Type de la structure chargée : {type(extracted_examples)}\\n\")\n",
    "\n",
    "# Afficher les premières entrées selon le type de données\n",
    "if isinstance(extracted_examples, list):\n",
    "    # Si c'est une liste\n",
    "    for i, item in enumerate(extracted_examples[:5]):\n",
    "        print(f\"Élément {i+1} : {item}\\n\")\n",
    "\n",
    "# good one\n",
    "elif isinstance(extracted_examples, dict):\n",
    "    # Si c'est un dictionnaire\n",
    "    for i, (key, value) in enumerate(extracted_examples.items()):\n",
    "        if i >= 5:\n",
    "            break\n",
    "        print(f\"Clé : {key}\\nValeur : {value}\\n\")\n",
    "\n",
    "elif isinstance(extracted_examples, (set, tuple)):\n",
    "    # Si c'est un ensemble ou un tuple\n",
    "    for i, item in enumerate(list(extracted_examples)[:5]):\n",
    "        print(f\"Élément {i+1} : {item}\\n\")\n",
    "\n",
    "else:\n",
    "    # Si c'est un autre type de données\n",
    "    print(extracted_examples)\n",
    "print(len(value))\n"
   ]
  },
  {
   "cell_type": "code",
   "execution_count": 18,
   "metadata": {},
   "outputs": [
    {
     "name": "stdout",
     "output_type": "stream",
     "text": [
      "Colonnes disponibles : ['index', 'promptID', 'pairID', 'genre', 'sentence1_binary_parse', 'sentence2_binary_parse', 'sentence1_parse', 'sentence2_parse', 'sentence1', 'sentence2', 'label1', 'gold_label']\n",
      "Les phrases extraites ont été enregistrées dans 'extracted_sentences.csv'.\n"
     ]
    }
   ],
   "source": [
    "import pickle\n",
    "import pandas as pd\n",
    "\n",
    "# Charger les indices d'exemples sélectionnés\n",
    "with open('mnli_bert_base/important_examples.pkl', 'rb') as file:\n",
    "    extracted_examples = pickle.load(file)\n",
    "\n",
    "selected_indices = extracted_examples['selected_examples']\n",
    "\n",
    "# Charger le fichier train.tsv\n",
    "# train_data = pd.read_csv('mnli/MNLI/MNLI/train.tsv', sep='\\t')\n",
    "train_data =  pd.read_csv('mnli/MNLI/MNLI/train.tsv',\n",
    "                        delimiter='\\t',\n",
    "                        on_bad_lines='skip', \n",
    "                        skiprows=0,\n",
    "                        quoting=3,\n",
    "                        keep_default_na=False,\n",
    "                        encoding=\"utf-8\",)\n",
    "# Vérifier la structure des colonnes\n",
    "print(f\"Colonnes disponibles : {train_data.columns.tolist()}\")\n",
    "\n",
    "extracted_data = []\n",
    "\n",
    "for idx in selected_indices:  # Limité aux 5 premiers exemples\n",
    "    row = train_data.iloc[idx]\n",
    "    extracted_data.append({\n",
    "        'Index': idx,\n",
    "        'Sentence1': row['sentence1'],\n",
    "        'Sentence2': row['sentence2'],\n",
    "        'Gold_Label': row['gold_label']\n",
    "    })\n",
    "\n",
    "# Enregistrer les données extraites dans un fichier CSV\n",
    "output_df = pd.DataFrame(extracted_data)\n",
    "output_df.to_csv('extracted_examples.csv', index=False)\n",
    "\n",
    "print(\"Les phrases extraites ont été enregistrées dans 'extracted_sentences.csv'.\")\n"
   ]
  },
  {
   "cell_type": "code",
   "execution_count": null,
   "metadata": {},
   "outputs": [],
   "source": [
    "import pickle\n",
    "import pandas as pd\n",
    "\n",
    "# Charger le dataset MNLI\n",
    "mnli_data = pd.read_csv('train.tsv', sep='\\t')\n",
    "\n",
    "# Fonction pour analyser la distribution des labels\n",
    "def analyze_label_distribution(pkl_file, method_name):\n",
    "    with open(pkl_file, 'rb') as file:\n",
    "        extracted_indices = pickle.load(file)\n",
    "    \n",
    "    # Filtrer les exemples extraits\n",
    "    filtered_data = mnli_data[mnli_data['index'].isin(extracted_indices)]\n",
    "    \n",
    "    # Compter la distribution des labels\n",
    "    label_counts = filtered_data['gold_label'].value_counts()\n",
    "    print(f\"Distribution des labels pour {method_name}:\")\n",
    "    print(label_counts)\n",
    "    print('-' * 40)\n",
    "    return label_counts\n",
    "\n",
    "# Appliquer l'analyse pour chaque méthode\n",
    "att_labels = analyze_label_distribution('attention_score.pkl', 'Attention Score')\n",
    "lid_labels = analyze_label_distribution('lid_score.pkl', 'LID Score')\n",
    "forget_labels = analyze_label_distribution('forget_events.pkl', 'Forget Events')\n"
   ]
  },
  {
   "cell_type": "code",
   "execution_count": null,
   "metadata": {},
   "outputs": [],
   "source": [
    "import matplotlib.pyplot as plt\n",
    "\n",
    "# Combiner les résultats dans un DataFrame\n",
    "label_distribution = pd.DataFrame({\n",
    "    'Attention Score': att_labels,\n",
    "    'LID Score': lid_labels,\n",
    "    'Forget Events': forget_labels\n",
    "}).fillna(0)\n",
    "\n",
    "# Plot\n",
    "label_distribution.plot(kind='bar', figsize=(10, 6))\n",
    "plt.title('Distribution des Labels par Méthode d’Extraction')\n",
    "plt.xlabel('Classe (gold_label)')\n",
    "plt.ylabel('Nombre d\\'Exemples')\n",
    "plt.xticks(rotation=0)\n",
    "plt.show()\n"
   ]
  }
 ],
 "metadata": {
  "language_info": {
   "name": "python"
  }
 },
 "nbformat": 4,
 "nbformat_minor": 2
}
